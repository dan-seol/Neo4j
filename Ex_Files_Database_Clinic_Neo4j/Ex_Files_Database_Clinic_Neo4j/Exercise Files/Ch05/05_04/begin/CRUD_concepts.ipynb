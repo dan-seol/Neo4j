{
 "cells": [
  {
   "cell_type": "markdown",
   "metadata": {
    "collapsed": true
   },
   "source": [
    "# CRUD Concepts"
   ]
  },
  {
   "cell_type": "markdown",
   "metadata": {},
   "source": [
    "## Data model\n",
    "\n",
    "\n",
    "<img src=\"https://dl.dropboxusercontent.com/u/67572426/datamodel_sm.png\">\n"
   ]
  },
  {
   "cell_type": "markdown",
   "metadata": {},
   "source": [
    "## Connect to Neo4j\n",
    "\n",
    "We use the [Neo4j Bolt Driver](http://neo4j.com/docs/api/python-driver/current/) to connect to Neo4j and execute Cypher queries."
   ]
  },
  {
   "cell_type": "code",
   "execution_count": 1,
   "metadata": {},
   "outputs": [
    {
     "name": "stdout",
     "output_type": "stream",
     "text": [
      "Requirement already satisfied: neo4j-driver in /Users/williamlyon/anaconda/lib/python3.6/site-packages\r\n"
     ]
    }
   ],
   "source": [
    "# First we install the neo4j-driver package\n",
    "!pip install neo4j-driver"
   ]
  },
  {
   "cell_type": "code",
   "execution_count": 2,
   "metadata": {
    "collapsed": true
   },
   "outputs": [],
   "source": [
    "from neo4j.v1 import GraphDatabase"
   ]
  },
  {
   "cell_type": "code",
   "execution_count": 3,
   "metadata": {
    "collapsed": true
   },
   "outputs": [],
   "source": [
    "# instantiate driver object\n",
    "# NOTE: be sure to change the password below to match what you chose when creating the Neo4j database\n",
    "driver = GraphDatabase.driver(\"bolt://localhost:7687\", auth=(\"neo4j\", \"letmein\"))"
   ]
  },
  {
   "cell_type": "code",
   "execution_count": 4,
   "metadata": {},
   "outputs": [
    {
     "name": "stdout",
     "output_type": "stream",
     "text": [
      "Number of nodes in the database: 0\n"
     ]
    }
   ],
   "source": [
    "# Hello world\n",
    "with driver.session() as session:\n",
    "    result = session.run(\"MATCH (a) RETURN COUNT(a) AS num\")\n",
    "    \n",
    "    for record in result:\n",
    "        print(\"Number of nodes in the database: %i\" % record['num'])"
   ]
  },
  {
   "cell_type": "markdown",
   "metadata": {},
   "source": [
    "## CREATE\n",
    "\n",
    "### Create Characters\n",
    "\n"
   ]
  },
  {
   "cell_type": "code",
   "execution_count": null,
   "metadata": {
    "collapsed": true
   },
   "outputs": [],
   "source": [
    "with driver.session() as session:\n",
    "    session.run(\"CREATE CONSTRAINT ON (c:Character) ASSERT c.name IS UNIQUE;\")"
   ]
  },
  {
   "cell_type": "code",
   "execution_count": null,
   "metadata": {
    "collapsed": true
   },
   "outputs": [],
   "source": [
    "# Query to create Character node\n",
    "create_character_query = '''\n",
    "'''"
   ]
  },
  {
   "cell_type": "code",
   "execution_count": null,
   "metadata": {
    "collapsed": true
   },
   "outputs": [],
   "source": [
    "with driver.session() as session:\n",
    "    with open(\"data/characters.txt\") as f:\n",
    "        for line in f:\n",
    "            # strip whitespace\n",
    "            # execute create_character_query, passing name parameter"
   ]
  },
  {
   "cell_type": "markdown",
   "metadata": {},
   "source": [
    "### Create Line nodes\n",
    "\n",
    "> For each line in the text, CREATE a corresponding record in the database. Each record will include the name of the character speaking, the (absolute) line number of the phrase and the phrase itself, trimmed of any leading or following spaces"
   ]
  },
  {
   "cell_type": "code",
   "execution_count": null,
   "metadata": {
    "collapsed": true
   },
   "outputs": [],
   "source": [
    "# Query to add a line to the database\n",
    "create_line_query = '''\n",
    "'''\n",
    "\n"
   ]
  },
  {
   "cell_type": "code",
   "execution_count": null,
   "metadata": {
    "collapsed": true
   },
   "outputs": [],
   "source": [
    "# create an empty set\n",
    "characters = set()\n",
    "\n",
    "# fetch all Character names from the database\n",
    "get_characters_query = '''\n",
    "MATCH (c:Character)\n",
    "RETURN c.name AS name\n",
    "'''\n",
    "\n",
    "# for each Character name, add it to the characters set\n",
    "with driver.session() as session:\n",
    "    result = session.run(get_characters_query)\n",
    "    for record in result:\n",
    "        characters.add(record['name'])\n",
    "\n",
    "characters"
   ]
  },
  {
   "cell_type": "code",
   "execution_count": null,
   "metadata": {
    "collapsed": true
   },
   "outputs": [],
   "source": [
    "# import the time \n",
    "import time"
   ]
  },
  {
   "cell_type": "code",
   "execution_count": null,
   "metadata": {
    "collapsed": true
   },
   "outputs": [],
   "source": [
    "line_num = 0\n",
    "\n",
    "begin = time.time()\n",
    "with driver.session() as session:\n",
    "    with open(\"data/A_Midsummer_Nights_Dream.txt\") as f:\n",
    "        current_character = ''\n",
    "        for line in f:\n",
    "            # strip leading and trailing whitespace\n",
    "            # is line the character speaking?\n",
    "            # insert line into database\n",
    "            \n",
    "    end = time.time()\n",
    "    create_time = (end-begin)/line_num * 1000\n",
    "\n",
    "print(str(create_time))\n",
    "    "
   ]
  },
  {
   "cell_type": "markdown",
   "metadata": {},
   "source": [
    "## UPDATE\n",
    "\n",
    "> For each record in the database, search for character names, convert them to UPPERCASE, then UPDATE the record in the database"
   ]
  },
  {
   "cell_type": "code",
   "execution_count": null,
   "metadata": {
    "collapsed": true
   },
   "outputs": [],
   "source": [
    "# query to update \n",
    "update_query = '''\n",
    "'''"
   ]
  },
  {
   "cell_type": "code",
   "execution_count": null,
   "metadata": {
    "collapsed": true
   },
   "outputs": [],
   "source": [
    "update_count = 0\n",
    "\n",
    "with driver.session() as session:\n",
    "    begin = time.time()\n",
    "    for c in characters:\n",
    "        # Update the lines mentioning this character\n",
    "        # increment update_count\n",
    "    end = time.time()\n",
    "    update_time = (end-begin)/update_count * 1000\n",
    "    print(update_time)"
   ]
  },
  {
   "cell_type": "markdown",
   "metadata": {},
   "source": [
    "## DELETE\n",
    "\n",
    "> For each record in the database, the instructor will also need to DELETE any lines that start with “ENTER” , “EXIT” , “ACT” , or “SCENE”\n"
   ]
  },
  {
   "cell_type": "code",
   "execution_count": null,
   "metadata": {
    "collapsed": true
   },
   "outputs": [],
   "source": [
    "# query to delete stop words\n",
    "delete_query = '''\n",
    "'''"
   ]
  },
  {
   "cell_type": "code",
   "execution_count": null,
   "metadata": {
    "collapsed": true
   },
   "outputs": [],
   "source": [
    "with driver.session() as session:\n",
    "    begin = time.time()\n",
    "    result = session.run(delete_query)\n",
    "    record = result.single()\n",
    "    num_lines = record['num']\n",
    "    end = time.time()\n",
    "    delete_time = (end-begin) / num_lines * 1000\n",
    "    print(delete_time)"
   ]
  },
  {
   "cell_type": "markdown",
   "metadata": {},
   "source": [
    "## READ\n",
    "\n",
    "When all other tasks are complete, the next step will be to READ each line and print it out to console\n"
   ]
  },
  {
   "cell_type": "code",
   "execution_count": null,
   "metadata": {
    "collapsed": true
   },
   "outputs": [],
   "source": [
    "# query to read lines\n",
    "read_lines_query = '''\n",
    "'''"
   ]
  },
  {
   "cell_type": "code",
   "execution_count": null,
   "metadata": {
    "collapsed": true
   },
   "outputs": [],
   "source": [
    "with driver.session() as session:\n",
    "    begin = time.time()\n",
    "    # read each line from the datbase\n",
    "    # print each line\n",
    "    end = time.time()\n",
    "    \n",
    "    # get number of lines in database\n",
    "    \n",
    "    \n",
    "    read_time = (end-begin)/numlines * 1000\n",
    "    print(str(read_time))"
   ]
  },
  {
   "cell_type": "code",
   "execution_count": null,
   "metadata": {
    "collapsed": true
   },
   "outputs": [],
   "source": [
    "print(\"CREATE: %.2fms per line\" % create_time)\n",
    "print(\"READ: %.2fms per line\" % read_time)\n",
    "print(\"UPDATE %.2fms per line\" % update_time)\n",
    "print(\"DELETE %.2fms per line\" % delete_time)"
   ]
  }
 ],
 "metadata": {
  "kernelspec": {
   "display_name": "Python 2",
   "language": "python",
   "name": "python2"
  },
  "language_info": {
   "codemirror_mode": {
    "name": "ipython",
    "version": 2
   },
   "file_extension": ".py",
   "mimetype": "text/x-python",
   "name": "python",
   "nbconvert_exporter": "python",
   "pygments_lexer": "ipython2",
   "version": "2.7.13"
  }
 },
 "nbformat": 4,
 "nbformat_minor": 2
}
